{
 "cells": [
  {
   "cell_type": "markdown",
   "id": "9cf66635-b140-4071-95be-8d9609e89902",
   "metadata": {},
   "source": [
    "# Data Cleaning & Merging – Hilal and Dubizzle Real Estate"
   ]
  },
  {
   "cell_type": "markdown",
   "id": "c08b0c9a-03dc-46bb-9813-f786db1158ec",
   "metadata": {},
   "source": [
    "## 1. Load Required Libraries"
   ]
  },
  {
   "cell_type": "code",
   "execution_count": 1,
   "id": "52f9e844-0cd3-4377-9de1-c80e50649b1b",
   "metadata": {},
   "outputs": [],
   "source": [
    "import pandas as pd\n",
    "import numpy as np"
   ]
  },
  {
   "cell_type": "markdown",
   "id": "b5f3a0c6-bab3-4a27-90fd-f3a9348a72dc",
   "metadata": {},
   "source": [
    "## 2. Load the CSV Files"
   ]
  },
  {
   "cell_type": "code",
   "execution_count": 2,
   "id": "5ef769fb-b42e-4e0e-89a2-5ef461f3a375",
   "metadata": {},
   "outputs": [],
   "source": [
    "hilal_df = pd.read_csv(\"Desktop/hilal_rental_data.csv\")\n",
    "dubizzle_df = pd.read_csv(\"Desktop/dubizzle_properties_for_rent.csv\")"
   ]
  },
  {
   "cell_type": "markdown",
   "id": "6b8c4d53-dcf4-4478-abdd-252419c2c72a",
   "metadata": {},
   "source": [
    "## 3. Explore Raw Data"
   ]
  },
  {
   "cell_type": "code",
   "execution_count": 3,
   "id": "5f155768-0760-4edc-8230-692500c9003a",
   "metadata": {},
   "outputs": [
    {
     "name": "stdout",
     "output_type": "stream",
     "text": [
      "Hilal Dataset:\n"
     ]
    },
    {
     "data": {
      "text/html": [
       "<div>\n",
       "<style scoped>\n",
       "    .dataframe tbody tr th:only-of-type {\n",
       "        vertical-align: middle;\n",
       "    }\n",
       "\n",
       "    .dataframe tbody tr th {\n",
       "        vertical-align: top;\n",
       "    }\n",
       "\n",
       "    .dataframe thead th {\n",
       "        text-align: right;\n",
       "    }\n",
       "</style>\n",
       "<table border=\"1\" class=\"dataframe\">\n",
       "  <thead>\n",
       "    <tr style=\"text-align: right;\">\n",
       "      <th></th>\n",
       "      <th>Title</th>\n",
       "      <th>Location</th>\n",
       "      <th>Bedrooms</th>\n",
       "      <th>Bathrooms</th>\n",
       "      <th>Price</th>\n",
       "      <th>Size</th>\n",
       "      <th>Listing_Type</th>\n",
       "    </tr>\n",
       "  </thead>\n",
       "  <tbody>\n",
       "    <tr>\n",
       "      <th>0</th>\n",
       "      <td>2-BEDROOM APARTMENT</td>\n",
       "      <td>Al Ansab</td>\n",
       "      <td>2</td>\n",
       "      <td>2</td>\n",
       "      <td>300</td>\n",
       "      <td>NaN</td>\n",
       "      <td>For Rent</td>\n",
       "    </tr>\n",
       "    <tr>\n",
       "      <th>1</th>\n",
       "      <td>2-BEDROOM APARTMENT</td>\n",
       "      <td>Shatti Al Qurum</td>\n",
       "      <td>2</td>\n",
       "      <td>2</td>\n",
       "      <td>500</td>\n",
       "      <td>NaN</td>\n",
       "      <td>For Rent</td>\n",
       "    </tr>\n",
       "    <tr>\n",
       "      <th>2</th>\n",
       "      <td>4+1 BEDROOM TWIN VILLA</td>\n",
       "      <td>Madinat Qaboos (MQ)</td>\n",
       "      <td>4</td>\n",
       "      <td>5</td>\n",
       "      <td>1500</td>\n",
       "      <td>NaN</td>\n",
       "      <td>For Rent</td>\n",
       "    </tr>\n",
       "    <tr>\n",
       "      <th>3</th>\n",
       "      <td>COMMERCIAL SHOP</td>\n",
       "      <td>Ghala</td>\n",
       "      <td>NaN</td>\n",
       "      <td>NaN</td>\n",
       "      <td>370</td>\n",
       "      <td>39</td>\n",
       "      <td>For Rent</td>\n",
       "    </tr>\n",
       "    <tr>\n",
       "      <th>4</th>\n",
       "      <td>COMMERCIAL OFFICE SPACE</td>\n",
       "      <td>Bausher</td>\n",
       "      <td>NaN</td>\n",
       "      <td>2</td>\n",
       "      <td>4</td>\n",
       "      <td>NaN</td>\n",
       "      <td>For Rent</td>\n",
       "    </tr>\n",
       "  </tbody>\n",
       "</table>\n",
       "</div>"
      ],
      "text/plain": [
       "                     Title             Location Bedrooms Bathrooms  Price  \\\n",
       "0      2-BEDROOM APARTMENT             Al Ansab        2         2    300   \n",
       "1      2-BEDROOM APARTMENT      Shatti Al Qurum        2         2    500   \n",
       "2   4+1 BEDROOM TWIN VILLA  Madinat Qaboos (MQ)        4         5   1500   \n",
       "3          COMMERCIAL SHOP                Ghala      NaN       NaN    370   \n",
       "4  COMMERCIAL OFFICE SPACE              Bausher      NaN         2      4   \n",
       "\n",
       "  Size Listing_Type  \n",
       "0  NaN     For Rent  \n",
       "1  NaN     For Rent  \n",
       "2  NaN     For Rent  \n",
       "3   39     For Rent  \n",
       "4  NaN     For Rent  "
      ]
     },
     "execution_count": 3,
     "metadata": {},
     "output_type": "execute_result"
    }
   ],
   "source": [
    "print(\"Hilal Dataset:\")\n",
    "hilal_df.head()"
   ]
  },
  {
   "cell_type": "code",
   "execution_count": 4,
   "id": "7d477814-bd68-49c7-830d-cc59bc61d64f",
   "metadata": {},
   "outputs": [
    {
     "name": "stdout",
     "output_type": "stream",
     "text": [
      "<class 'pandas.core.frame.DataFrame'>\n",
      "RangeIndex: 173 entries, 0 to 172\n",
      "Data columns (total 7 columns):\n",
      " #   Column        Non-Null Count  Dtype \n",
      "---  ------        --------------  ----- \n",
      " 0   Title         173 non-null    object\n",
      " 1   Location      168 non-null    object\n",
      " 2   Bedrooms      137 non-null    object\n",
      " 3   Bathrooms     138 non-null    object\n",
      " 4   Price         173 non-null    int64 \n",
      " 5   Size          67 non-null     object\n",
      " 6   Listing_Type  173 non-null    object\n",
      "dtypes: int64(1), object(6)\n",
      "memory usage: 9.6+ KB\n",
      "None\n"
     ]
    }
   ],
   "source": [
    "print(hilal_df.info())"
   ]
  },
  {
   "cell_type": "code",
   "execution_count": 5,
   "id": "33d13d2c-95a9-4d36-a7ce-960b39484c0d",
   "metadata": {},
   "outputs": [
    {
     "name": "stdout",
     "output_type": "stream",
     "text": [
      "\n",
      "Dubizzle Dataset:\n"
     ]
    },
    {
     "data": {
      "text/html": [
       "<div>\n",
       "<style scoped>\n",
       "    .dataframe tbody tr th:only-of-type {\n",
       "        vertical-align: middle;\n",
       "    }\n",
       "\n",
       "    .dataframe tbody tr th {\n",
       "        vertical-align: top;\n",
       "    }\n",
       "\n",
       "    .dataframe thead th {\n",
       "        text-align: right;\n",
       "    }\n",
       "</style>\n",
       "<table border=\"1\" class=\"dataframe\">\n",
       "  <thead>\n",
       "    <tr style=\"text-align: right;\">\n",
       "      <th></th>\n",
       "      <th>property_name</th>\n",
       "      <th>price</th>\n",
       "      <th>location</th>\n",
       "      <th>area</th>\n",
       "      <th>bathrooms</th>\n",
       "      <th>beds</th>\n",
       "    </tr>\n",
       "  </thead>\n",
       "  <tbody>\n",
       "    <tr>\n",
       "      <th>0</th>\n",
       "      <td>MADINAT AL ILAM | EXCELLENT 4+1 BR TOWNHOUSE</td>\n",
       "      <td>OMR 650</td>\n",
       "      <td>Madinat As Sultan Qaboos, Muscat•</td>\n",
       "      <td>300 SQM</td>\n",
       "      <td>6</td>\n",
       "      <td>4</td>\n",
       "    </tr>\n",
       "    <tr>\n",
       "      <th>1</th>\n",
       "      <td>AL KHUWAIR | WELL MAINTAINED 2 BHK FLAT</td>\n",
       "      <td>OMR 280</td>\n",
       "      <td>Al Khuwair, Muscat•</td>\n",
       "      <td>105 SQM</td>\n",
       "      <td>2</td>\n",
       "      <td>2</td>\n",
       "    </tr>\n",
       "    <tr>\n",
       "      <th>2</th>\n",
       "      <td>Elegant 4 BHK Villa for rent @ Qurum</td>\n",
       "      <td>OMR 650</td>\n",
       "      <td>Qurum, Muscat•</td>\n",
       "      <td>300 SQM</td>\n",
       "      <td>5</td>\n",
       "      <td>4</td>\n",
       "    </tr>\n",
       "    <tr>\n",
       "      <th>3</th>\n",
       "      <td>ANSAB | 8 BEDROOM VILLA</td>\n",
       "      <td>OMR 400</td>\n",
       "      <td>Ansab, Muscat•</td>\n",
       "      <td>300 SQM</td>\n",
       "      <td>9</td>\n",
       "      <td>8</td>\n",
       "    </tr>\n",
       "    <tr>\n",
       "      <th>4</th>\n",
       "      <td>ADV905*4BHK Villa for rent in Madinat Illam in...</td>\n",
       "      <td>OMR 750</td>\n",
       "      <td>Qurum, Muscat•</td>\n",
       "      <td>300 SQM</td>\n",
       "      <td>4</td>\n",
       "      <td>4</td>\n",
       "    </tr>\n",
       "  </tbody>\n",
       "</table>\n",
       "</div>"
      ],
      "text/plain": [
       "                                       property_name    price  \\\n",
       "0       MADINAT AL ILAM | EXCELLENT 4+1 BR TOWNHOUSE  OMR 650   \n",
       "1            AL KHUWAIR | WELL MAINTAINED 2 BHK FLAT  OMR 280   \n",
       "2               Elegant 4 BHK Villa for rent @ Qurum  OMR 650   \n",
       "3                            ANSAB | 8 BEDROOM VILLA  OMR 400   \n",
       "4  ADV905*4BHK Villa for rent in Madinat Illam in...  OMR 750   \n",
       "\n",
       "                            location     area bathrooms beds  \n",
       "0  Madinat As Sultan Qaboos, Muscat•  300 SQM         6    4  \n",
       "1                Al Khuwair, Muscat•  105 SQM         2    2  \n",
       "2                     Qurum, Muscat•  300 SQM         5    4  \n",
       "3                     Ansab, Muscat•  300 SQM         9    8  \n",
       "4                     Qurum, Muscat•  300 SQM         4    4  "
      ]
     },
     "execution_count": 5,
     "metadata": {},
     "output_type": "execute_result"
    }
   ],
   "source": [
    "print(\"\\nDubizzle Dataset:\")\n",
    "dubizzle_df.head()"
   ]
  },
  {
   "cell_type": "code",
   "execution_count": 6,
   "id": "7a453103-319b-4aa0-ab29-fa3bb59786b8",
   "metadata": {},
   "outputs": [
    {
     "name": "stdout",
     "output_type": "stream",
     "text": [
      "<class 'pandas.core.frame.DataFrame'>\n",
      "RangeIndex: 9360 entries, 0 to 9359\n",
      "Data columns (total 6 columns):\n",
      " #   Column         Non-Null Count  Dtype \n",
      "---  ------         --------------  ----- \n",
      " 0   property_name  9360 non-null   object\n",
      " 1   price          9360 non-null   object\n",
      " 2   location       9360 non-null   object\n",
      " 3   area           9360 non-null   object\n",
      " 4   bathrooms      9360 non-null   object\n",
      " 5   beds           9360 non-null   object\n",
      "dtypes: object(6)\n",
      "memory usage: 438.9+ KB\n",
      "None\n"
     ]
    }
   ],
   "source": [
    "print(dubizzle_df.info())"
   ]
  },
  {
   "cell_type": "markdown",
   "id": "18f171b3-526d-4927-b6bb-3d5e65296485",
   "metadata": {},
   "source": [
    "## 4. Standardize column names for both datasets"
   ]
  },
  {
   "cell_type": "code",
   "execution_count": 7,
   "id": "bb757a15-5677-4bb0-ba19-f0ddeed3e47e",
   "metadata": {},
   "outputs": [],
   "source": [
    "hilal_df = hilal_df.rename(columns={\n",
    "    'Title': 'property_name',\n",
    "    'Location': 'location',\n",
    "    'Bedrooms': 'bedrooms',\n",
    "    'Bathrooms': 'bathrooms',\n",
    "    'Price': 'price',\n",
    "    'Size': 'size',\n",
    "    'Listing_Type': 'listing_type'\n",
    "})\n",
    "\n",
    "dubizzle_df = dubizzle_df.rename(columns={\n",
    "    'property_name': 'property_name',\n",
    "    'price': 'price',\n",
    "    'location': 'location',\n",
    "    'area': 'size',\n",
    "    'bathrooms': 'bathrooms',\n",
    "    'beds': 'bedrooms'\n",
    "})"
   ]
  },
  {
   "cell_type": "markdown",
   "id": "36752f70-078f-4b9c-aaca-7239ad851663",
   "metadata": {},
   "source": [
    "## 5. Combine the datasets"
   ]
  },
  {
   "cell_type": "code",
   "execution_count": 8,
   "id": "85114b4c-81e4-47cd-9d46-cf58840cda4f",
   "metadata": {},
   "outputs": [],
   "source": [
    "df = pd.concat([hilal_df, dubizzle_df], ignore_index=True)"
   ]
  },
  {
   "cell_type": "markdown",
   "id": "cdd61d63-9a1e-4603-b472-010786c4fd7b",
   "metadata": {},
   "source": [
    "## 6. Trim whitespace from strings"
   ]
  },
  {
   "cell_type": "code",
   "execution_count": 9,
   "id": "598a7e8f-5ed5-4479-a015-6a9f835ec101",
   "metadata": {},
   "outputs": [],
   "source": [
    "for col in df.select_dtypes(include='object').columns:\n",
    "    df[col] = df[col].astype(str).str.strip()"
   ]
  },
  {
   "cell_type": "markdown",
   "id": "ae2ff7b5-c7fc-4524-99d7-6ed240adaa81",
   "metadata": {},
   "source": [
    "## 7. Clean numeric columns: price, bedrooms, bathrooms"
   ]
  },
  {
   "cell_type": "code",
   "execution_count": 10,
   "id": "85874f96-64de-4582-b1ba-5ed6c06063e8",
   "metadata": {},
   "outputs": [],
   "source": [
    "for col in ['price', 'bedrooms', 'bathrooms']:\n",
    "    df[col] = df[col].replace(r\"[^\\d]\", \"\", regex=True)\n",
    "    df[col] = pd.to_numeric(df[col], errors='coerce').astype('Int64')"
   ]
  },
  {
   "cell_type": "markdown",
   "id": "613f3301-6640-4070-ac81-2a64ede9f59a",
   "metadata": {},
   "source": [
    "## 8. Clean and Standardize Property Size"
   ]
  },
  {
   "cell_type": "code",
   "execution_count": 17,
   "id": "11d47f5b-b9fc-43fc-964e-6a4ce9bea5a4",
   "metadata": {},
   "outputs": [
    {
     "name": "stdout",
     "output_type": "stream",
     "text": [
      "Missing in size column: 0\n"
     ]
    }
   ],
   "source": [
    "# Remove 'SQM' or any non-digit characters\n",
    "df['size'] = df['size'].replace(r\"[^\\d.]\", \"\", regex=True)\n",
    "\n",
    "# Convert to numeric\n",
    "df['size'] = pd.to_numeric(df['size'], errors='coerce')\n",
    "\n",
    "# Fill missing values with median\n",
    "median_size = df['size'].median()\n",
    "df['size'] = df['size'].fillna(median_size)\n",
    "\n",
    "# Confirm no missing values\n",
    "print(\"Missing in size column:\", df['size'].isnull().sum())"
   ]
  },
  {
   "cell_type": "markdown",
   "id": "e26167c1-86a9-4aff-a95d-7e379ade965a",
   "metadata": {},
   "source": [
    "## 9. Infer missing location from title text"
   ]
  },
  {
   "cell_type": "code",
   "execution_count": 18,
   "id": "ef1fd5d0-7a8e-4e12-9f8a-7532d8fb813e",
   "metadata": {},
   "outputs": [],
   "source": [
    "known_locations = df['location'].dropna().unique().tolist()\n",
    "\n",
    "def infer_location_from_title(row):\n",
    "    if pd.isna(row['location']):\n",
    "        for loc in known_locations:\n",
    "            if isinstance(row['property_name'], str) and loc.lower() in row['property_name'].lower():\n",
    "                return loc\n",
    "    return row['location']\n",
    "\n",
    "df['location'] = df.apply(infer_location_from_title, axis=1)\n",
    "df['location'] = df['location'].fillna('Unknown')"
   ]
  },
  {
   "cell_type": "markdown",
   "id": "7347917e-3a10-46a1-a330-931b7488c49a",
   "metadata": {},
   "source": [
    "## 10. Fill missing bedrooms & bathrooms by location median"
   ]
  },
  {
   "cell_type": "code",
   "execution_count": 28,
   "id": "44bcd369-b0e5-4396-b91f-ecea5764fe25",
   "metadata": {},
   "outputs": [],
   "source": [
    "median_bedroom = df['bedrooms'].median()\n",
    "df['bedrooms'] = df['bedrooms'].fillna(round(median_bedroom)).astype(\"Int64\")\n",
    "median_bathroom = df['bathrooms'].median()\n",
    "df['bedrooms'] = df['bathrooms'].fillna(round(median_bathroom)).astype(\"Int64\")\n"
   ]
  },
  {
   "cell_type": "markdown",
   "id": "89e38604-53d1-4b56-a8c6-b3d7b6e216da",
   "metadata": {},
   "source": [
    "## 11. Convert to integers again after fill"
   ]
  },
  {
   "cell_type": "code",
   "execution_count": 29,
   "id": "d43eb81f-7838-4636-9cbb-d89b67f4abd2",
   "metadata": {},
   "outputs": [],
   "source": [
    "for col in ['price', 'bedrooms', 'bathrooms']:\n",
    "    df[col] = df[col].replace(r\"[^\\d.]\", \"\", regex=True)\n",
    "    df[col] = pd.to_numeric(df[col], errors='coerce').round().astype(\"Int64\")\n",
    "\n",
    "df['bedrooms'] = df['bedrooms'].round().astype(\"Int64\")\n",
    "df['bathrooms'] = df['bathrooms'].round().astype(\"Int64\")\n",
    "df['price'] = df['price'].round().astype(\"Int64\")"
   ]
  },
  {
   "cell_type": "markdown",
   "id": "fb06c89f-9b55-4ca9-b6ee-748751c47a3a",
   "metadata": {},
   "source": [
    "## 12. Drop duplicates and listing_type"
   ]
  },
  {
   "cell_type": "code",
   "execution_count": 30,
   "id": "26ed1010-bf22-4e4d-9f9d-0a6c2382f636",
   "metadata": {},
   "outputs": [],
   "source": [
    "df = df.drop_duplicates()\n",
    "df = df.drop(columns=['listing_type'], errors='ignore')"
   ]
  },
  {
   "cell_type": "markdown",
   "id": "8ddf7ef4-9fd5-4b7e-95ad-e6067794ddc3",
   "metadata": {},
   "source": [
    "## 10. View & Export the Combined Datase"
   ]
  },
  {
   "cell_type": "code",
   "execution_count": 33,
   "id": "22e44c5d-8d12-4714-8ad2-f74d2373ec7b",
   "metadata": {},
   "outputs": [
    {
     "data": {
      "text/html": [
       "<div>\n",
       "<style scoped>\n",
       "    .dataframe tbody tr th:only-of-type {\n",
       "        vertical-align: middle;\n",
       "    }\n",
       "\n",
       "    .dataframe tbody tr th {\n",
       "        vertical-align: top;\n",
       "    }\n",
       "\n",
       "    .dataframe thead th {\n",
       "        text-align: right;\n",
       "    }\n",
       "</style>\n",
       "<table border=\"1\" class=\"dataframe\">\n",
       "  <thead>\n",
       "    <tr style=\"text-align: right;\">\n",
       "      <th></th>\n",
       "      <th>property_name</th>\n",
       "      <th>location</th>\n",
       "      <th>bedrooms</th>\n",
       "      <th>bathrooms</th>\n",
       "      <th>price</th>\n",
       "      <th>size</th>\n",
       "    </tr>\n",
       "  </thead>\n",
       "  <tbody>\n",
       "    <tr>\n",
       "      <th>0</th>\n",
       "      <td>2-BEDROOM APARTMENT</td>\n",
       "      <td>Al Ansab</td>\n",
       "      <td>2</td>\n",
       "      <td>2</td>\n",
       "      <td>300</td>\n",
       "      <td>120.0</td>\n",
       "    </tr>\n",
       "    <tr>\n",
       "      <th>1</th>\n",
       "      <td>2-BEDROOM APARTMENT</td>\n",
       "      <td>Shatti Al Qurum</td>\n",
       "      <td>2</td>\n",
       "      <td>2</td>\n",
       "      <td>500</td>\n",
       "      <td>120.0</td>\n",
       "    </tr>\n",
       "    <tr>\n",
       "      <th>2</th>\n",
       "      <td>4+1 BEDROOM TWIN VILLA</td>\n",
       "      <td>Madinat Qaboos (MQ)</td>\n",
       "      <td>5</td>\n",
       "      <td>5</td>\n",
       "      <td>1500</td>\n",
       "      <td>120.0</td>\n",
       "    </tr>\n",
       "    <tr>\n",
       "      <th>3</th>\n",
       "      <td>COMMERCIAL SHOP</td>\n",
       "      <td>Ghala</td>\n",
       "      <td>2</td>\n",
       "      <td>&lt;NA&gt;</td>\n",
       "      <td>370</td>\n",
       "      <td>39.0</td>\n",
       "    </tr>\n",
       "    <tr>\n",
       "      <th>4</th>\n",
       "      <td>COMMERCIAL OFFICE SPACE</td>\n",
       "      <td>Bausher</td>\n",
       "      <td>2</td>\n",
       "      <td>2</td>\n",
       "      <td>4</td>\n",
       "      <td>120.0</td>\n",
       "    </tr>\n",
       "  </tbody>\n",
       "</table>\n",
       "</div>"
      ],
      "text/plain": [
       "             property_name             location  bedrooms  bathrooms  price  \\\n",
       "0      2-BEDROOM APARTMENT             Al Ansab         2          2    300   \n",
       "1      2-BEDROOM APARTMENT      Shatti Al Qurum         2          2    500   \n",
       "2   4+1 BEDROOM TWIN VILLA  Madinat Qaboos (MQ)         5          5   1500   \n",
       "3          COMMERCIAL SHOP                Ghala         2       <NA>    370   \n",
       "4  COMMERCIAL OFFICE SPACE              Bausher         2          2      4   \n",
       "\n",
       "    size  \n",
       "0  120.0  \n",
       "1  120.0  \n",
       "2  120.0  \n",
       "3   39.0  \n",
       "4  120.0  "
      ]
     },
     "execution_count": 33,
     "metadata": {},
     "output_type": "execute_result"
    }
   ],
   "source": [
    "df.to_csv(\"Merged_Cleaned_Dataset.csv\", index=False)\n",
    "df.head()"
   ]
  },
  {
   "cell_type": "code",
   "execution_count": 32,
   "id": "b0e19f15-c464-433c-9912-fd03e5c13b26",
   "metadata": {},
   "outputs": [
    {
     "data": {
      "text/html": [
       "<div>\n",
       "<style scoped>\n",
       "    .dataframe tbody tr th:only-of-type {\n",
       "        vertical-align: middle;\n",
       "    }\n",
       "\n",
       "    .dataframe tbody tr th {\n",
       "        vertical-align: top;\n",
       "    }\n",
       "\n",
       "    .dataframe thead th {\n",
       "        text-align: right;\n",
       "    }\n",
       "</style>\n",
       "<table border=\"1\" class=\"dataframe\">\n",
       "  <thead>\n",
       "    <tr style=\"text-align: right;\">\n",
       "      <th></th>\n",
       "      <th>property_name</th>\n",
       "      <th>location</th>\n",
       "      <th>bedrooms</th>\n",
       "      <th>bathrooms</th>\n",
       "      <th>price</th>\n",
       "      <th>size</th>\n",
       "    </tr>\n",
       "  </thead>\n",
       "  <tbody>\n",
       "    <tr>\n",
       "      <th>9528</th>\n",
       "      <td>Room for bachelor</td>\n",
       "      <td>Azaiba, Muscat•</td>\n",
       "      <td>1</td>\n",
       "      <td>1</td>\n",
       "      <td>100</td>\n",
       "      <td>10.0</td>\n",
       "    </tr>\n",
       "    <tr>\n",
       "      <th>9529</th>\n",
       "      <td>Sharing room</td>\n",
       "      <td>Al Ghubrah, Muscat•</td>\n",
       "      <td>2</td>\n",
       "      <td>2</td>\n",
       "      <td>60</td>\n",
       "      <td>20.0</td>\n",
       "    </tr>\n",
       "    <tr>\n",
       "      <th>9530</th>\n",
       "      <td>شقق وغرف للايجار</td>\n",
       "      <td>Al Khuwair, Muscat•</td>\n",
       "      <td>1</td>\n",
       "      <td>1</td>\n",
       "      <td>200</td>\n",
       "      <td>50.0</td>\n",
       "    </tr>\n",
       "    <tr>\n",
       "      <th>9531</th>\n",
       "      <td>شقة للايجار الدور الثاني العامرات… (للتواصل وا...</td>\n",
       "      <td>Al Amarat, Muscat•</td>\n",
       "      <td>3</td>\n",
       "      <td>3</td>\n",
       "      <td>130</td>\n",
       "      <td>131.0</td>\n",
       "    </tr>\n",
       "    <tr>\n",
       "      <th>9532</th>\n",
       "      <td>صلالة صحنوت</td>\n",
       "      <td>Salalah, Dhofar•</td>\n",
       "      <td>5</td>\n",
       "      <td>5</td>\n",
       "      <td>140</td>\n",
       "      <td>300.0</td>\n",
       "    </tr>\n",
       "  </tbody>\n",
       "</table>\n",
       "</div>"
      ],
      "text/plain": [
       "                                          property_name             location  \\\n",
       "9528                                  Room for bachelor      Azaiba, Muscat•   \n",
       "9529                                       Sharing room  Al Ghubrah, Muscat•   \n",
       "9530                                   شقق وغرف للايجار  Al Khuwair, Muscat•   \n",
       "9531  شقة للايجار الدور الثاني العامرات… (للتواصل وا...   Al Amarat, Muscat•   \n",
       "9532                                        صلالة صحنوت     Salalah, Dhofar•   \n",
       "\n",
       "      bedrooms  bathrooms  price   size  \n",
       "9528         1          1    100   10.0  \n",
       "9529         2          2     60   20.0  \n",
       "9530         1          1    200   50.0  \n",
       "9531         3          3    130  131.0  \n",
       "9532         5          5    140  300.0  "
      ]
     },
     "execution_count": 32,
     "metadata": {},
     "output_type": "execute_result"
    }
   ],
   "source": [
    "df.tail()"
   ]
  }
 ],
 "metadata": {
  "kernelspec": {
   "display_name": "Python [conda env:base] *",
   "language": "python",
   "name": "conda-base-py"
  },
  "language_info": {
   "codemirror_mode": {
    "name": "ipython",
    "version": 3
   },
   "file_extension": ".py",
   "mimetype": "text/x-python",
   "name": "python",
   "nbconvert_exporter": "python",
   "pygments_lexer": "ipython3",
   "version": "3.12.7"
  }
 },
 "nbformat": 4,
 "nbformat_minor": 5
}
